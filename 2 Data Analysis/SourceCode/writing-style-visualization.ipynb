{
 "cells": [
  {
   "cell_type": "markdown",
   "id": "bd7003e4",
   "metadata": {
    "papermill": {
     "duration": 0.005133,
     "end_time": "2025-05-04T14:10:25.117094",
     "exception": false,
     "start_time": "2025-05-04T14:10:25.111961",
     "status": "completed"
    },
    "tags": []
   },
   "source": [
    "This notebook compares the writing style of four different reviews datasets -- yelp, amazon find food, trip advisor, imdb.\n",
    "1. Text length\n",
    "2. Important words from high-rating and low-rating reviews by tf-idf. "
   ]
  },
  {
   "cell_type": "code",
   "execution_count": 2,
   "id": "e3ef1555",
   "metadata": {
    "execution": {
     "iopub.execute_input": "2025-05-04T14:10:27.217003Z",
     "iopub.status.busy": "2025-05-04T14:10:27.216578Z",
     "iopub.status.idle": "2025-05-04T14:10:29.751008Z",
     "shell.execute_reply": "2025-05-04T14:10:29.750060Z"
    },
    "papermill": {
     "duration": 2.541416,
     "end_time": "2025-05-04T14:10:29.752991",
     "exception": false,
     "start_time": "2025-05-04T14:10:27.211575",
     "status": "completed"
    },
    "tags": []
   },
   "outputs": [],
   "source": [
    "import json\n",
    "import numpy as np\n",
    "import pandas as pd\n",
    "import matplotlib.pyplot as plt\n",
    "from sklearn.feature_extraction.text import TfidfVectorizer\n",
    "from nltk import download\n",
    "from utils import read_json"
   ]
  },
  {
   "cell_type": "code",
   "execution_count": 4,
   "id": "37c4d94c",
   "metadata": {
    "execution": {
     "iopub.execute_input": "2025-05-04T14:10:29.784840Z",
     "iopub.status.busy": "2025-05-04T14:10:29.784525Z",
     "iopub.status.idle": "2025-05-04T14:13:52.654055Z",
     "shell.execute_reply": "2025-05-04T14:13:52.652459Z"
    },
    "papermill": {
     "duration": 202.88488,
     "end_time": "2025-05-04T14:13:52.664118",
     "exception": false,
     "start_time": "2025-05-04T14:10:29.779238",
     "status": "completed"
    },
    "tags": []
   },
   "outputs": [
    {
     "name": "stdout",
     "output_type": "stream",
     "text": [
      "CPU times: user 2min 10s, sys: 18.7 s, total: 2min 28s\n",
      "Wall time: 3min 22s\n"
     ]
    }
   ],
   "source": [
    "%%time\n",
    "\n",
    "yelp_review= read_json('yelp-dataset/yelp_academic_dataset_review.json')\n",
    "yelp_review[\"text_length\"] = yelp_review[\"text\"].apply(lambda x: len(x.split(\" \")))"
   ]
  },
  {
   "cell_type": "code",
   "execution_count": 5,
   "id": "5aa07f35",
   "metadata": {
    "execution": {
     "iopub.execute_input": "2025-05-04T14:13:52.675143Z",
     "iopub.status.busy": "2025-05-04T14:13:52.674769Z",
     "iopub.status.idle": "2025-05-04T14:14:08.795635Z",
     "shell.execute_reply": "2025-05-04T14:14:08.794252Z"
    },
    "papermill": {
     "duration": 16.128675,
     "end_time": "2025-05-04T14:14:08.797568",
     "exception": false,
     "start_time": "2025-05-04T14:13:52.668893",
     "status": "completed"
    },
    "tags": []
   },
   "outputs": [],
   "source": [
    "amazon_review = pd.read_csv('amazon-fine-food-reviews/Reviews.csv')\n",
    "amazon_review[\"text_length\"] = amazon_review[\"Text\"].apply(lambda x: len(x.split(\" \")))\n",
    "trip_review = pd.read_csv('trip-advisor-hotel-reviews/tripadvisor_hotel_reviews.csv')\n",
    "trip_review[\"text_length\"] = trip_review[\"Review\"].apply(lambda x: len(x.split(\" \")))\n",
    "imdb_review = pd.read_csv('imdb-dataset-of-50k-movie-reviews/IMDB Dataset.csv')\n",
    "imdb_review[\"text_length\"] = imdb_review[\"review\"].apply(lambda x: len(x.split(\" \")))"
   ]
  },
  {
   "cell_type": "code",
   "execution_count": 7,
   "id": "1dba9596",
   "metadata": {
    "execution": {
     "iopub.execute_input": "2025-05-04T14:14:08.824984Z",
     "iopub.status.busy": "2025-05-04T14:14:08.824675Z",
     "iopub.status.idle": "2025-05-04T14:14:11.244962Z",
     "shell.execute_reply": "2025-05-04T14:14:11.243767Z"
    },
    "papermill": {
     "duration": 2.427275,
     "end_time": "2025-05-04T14:14:11.246784",
     "exception": false,
     "start_time": "2025-05-04T14:14:08.819509",
     "status": "completed"
    },
    "tags": []
   },
   "outputs": [
    {
     "data": {
      "text/plain": [
       "(4684545, 1613801)"
      ]
     },
     "execution_count": 7,
     "metadata": {},
     "output_type": "execute_result"
    }
   ],
   "source": [
    "yelp_high_rating_corpus = yelp_review[yelp_review[\"stars\"] >= 4]\n",
    "yelp_low_rating_corpus = yelp_review[yelp_review[\"stars\"] < 3]\n",
    "len(yelp_high_rating_corpus), len(yelp_low_rating_corpus)"
   ]
  },
  {
   "cell_type": "code",
   "execution_count": 8,
   "id": "552165b4",
   "metadata": {
    "execution": {
     "iopub.execute_input": "2025-05-04T14:14:11.257155Z",
     "iopub.status.busy": "2025-05-04T14:14:11.256847Z",
     "iopub.status.idle": "2025-05-04T14:14:11.379880Z",
     "shell.execute_reply": "2025-05-04T14:14:11.378521Z"
    },
    "papermill": {
     "duration": 0.130347,
     "end_time": "2025-05-04T14:14:11.381591",
     "exception": false,
     "start_time": "2025-05-04T14:14:11.251244",
     "status": "completed"
    },
    "tags": []
   },
   "outputs": [
    {
     "data": {
      "text/plain": [
       "(443777, 82037)"
      ]
     },
     "execution_count": 8,
     "metadata": {},
     "output_type": "execute_result"
    }
   ],
   "source": [
    "amazon_high_rating_corpus = amazon_review[amazon_review[\"Score\"] >= 4]\n",
    "amazon_low_rating_corpus = amazon_review[amazon_review[\"Score\"] < 3]\n",
    "len(amazon_high_rating_corpus), len(amazon_low_rating_corpus)"
   ]
  },
  {
   "cell_type": "code",
   "execution_count": 9,
   "id": "2ef86bf7",
   "metadata": {
    "execution": {
     "iopub.execute_input": "2025-05-04T14:14:11.392414Z",
     "iopub.status.busy": "2025-05-04T14:14:11.392077Z",
     "iopub.status.idle": "2025-05-04T14:14:11.403572Z",
     "shell.execute_reply": "2025-05-04T14:14:11.402564Z"
    },
    "papermill": {
     "duration": 0.018549,
     "end_time": "2025-05-04T14:14:11.405163",
     "exception": false,
     "start_time": "2025-05-04T14:14:11.386614",
     "status": "completed"
    },
    "tags": []
   },
   "outputs": [
    {
     "data": {
      "text/plain": [
       "(15093, 3214)"
      ]
     },
     "execution_count": 9,
     "metadata": {},
     "output_type": "execute_result"
    }
   ],
   "source": [
    "trip_high_rating_corpus = trip_review[trip_review[\"Rating\"] >= 4]\n",
    "trip_low_rating_corpus = trip_review[trip_review[\"Rating\"] < 3]\n",
    "len(trip_high_rating_corpus), len(trip_low_rating_corpus)"
   ]
  },
  {
   "cell_type": "code",
   "execution_count": 10,
   "id": "012c313e",
   "metadata": {
    "execution": {
     "iopub.execute_input": "2025-05-04T14:14:11.415857Z",
     "iopub.status.busy": "2025-05-04T14:14:11.415219Z",
     "iopub.status.idle": "2025-05-04T14:14:11.438994Z",
     "shell.execute_reply": "2025-05-04T14:14:11.437843Z"
    },
    "papermill": {
     "duration": 0.030947,
     "end_time": "2025-05-04T14:14:11.440786",
     "exception": false,
     "start_time": "2025-05-04T14:14:11.409839",
     "status": "completed"
    },
    "tags": []
   },
   "outputs": [
    {
     "data": {
      "text/plain": [
       "(25000, 25000)"
      ]
     },
     "execution_count": 10,
     "metadata": {},
     "output_type": "execute_result"
    }
   ],
   "source": [
    "imdb_high_rating_corpus = imdb_review[imdb_review[\"sentiment\"] == \"positive\"]\n",
    "imdb_low_rating_corpus = imdb_review[imdb_review[\"sentiment\"] == \"negative\"]\n",
    "len(imdb_high_rating_corpus), len(imdb_low_rating_corpus)"
   ]
  },
  {
   "cell_type": "code",
   "execution_count": 11,
   "id": "893c027e",
   "metadata": {
    "execution": {
     "iopub.execute_input": "2025-05-04T14:14:11.452746Z",
     "iopub.status.busy": "2025-05-04T14:14:11.452438Z",
     "iopub.status.idle": "2025-05-04T14:14:12.577139Z",
     "shell.execute_reply": "2025-05-04T14:14:12.576091Z"
    },
    "papermill": {
     "duration": 1.134251,
     "end_time": "2025-05-04T14:14:12.579657",
     "exception": false,
     "start_time": "2025-05-04T14:14:11.445406",
     "status": "completed"
    },
    "tags": []
   },
   "outputs": [
    {
     "data": {
      "text/plain": [
       "<Figure size 640x480 with 0 Axes>"
      ]
     },
     "metadata": {},
     "output_type": "display_data"
    },
    {
     "data": {
      "image/png": "[encoded data removed]",
      "text/plain": [
       "<Figure size 1000x1000 with 4 Axes>"
      ]
     },
     "metadata": {},
     "output_type": "display_data"
    }
   ],
   "source": [
    "fig = plt.figure()\n",
    "plt.figure(figsize=(10,10))\n",
    "for i, (high_rating_corpus, low_rating_corpus, dataset_name) in enumerate(zip(\n",
    "    [yelp_high_rating_corpus, amazon_high_rating_corpus, trip_high_rating_corpus, imdb_high_rating_corpus],\n",
    "    [yelp_low_rating_corpus, amazon_low_rating_corpus, trip_low_rating_corpus, imdb_low_rating_corpus],\n",
    "    [\"yelp\", \"amazon\", \"trip\", \"imdb\"]\n",
    ")):\n",
    "    plt.subplot(221 + i)\n",
    "    plt.title(dataset_name)\n",
    "    plt.boxplot(\n",
    "        [high_rating_corpus.text_length, low_rating_corpus.text_length], \n",
    "        labels=(\"high_rating\", \"low_rating\"),\n",
    "        showfliers=False\n",
    "    )\n"
   ]
  },
  {
   "cell_type": "code",
   "execution_count": null,
   "id": "b6656e53",
   "metadata": {
    "papermill": {
     "duration": 0.005712,
     "end_time": "2025-05-04T14:22:32.151452",
     "exception": false,
     "start_time": "2025-05-04T14:22:32.145740",
     "status": "completed"
    },
    "tags": []
   },
   "outputs": [],
   "source": []
  }
 ],
 "metadata": {
  "kaggle": {
   "accelerator": "none",
   "dataSources": [
    {
     "datasetId": 18,
     "sourceId": 2157,
     "sourceType": "datasetVersion"
    },
    {
     "datasetId": 134715,
     "sourceId": 320111,
     "sourceType": "datasetVersion"
    },
    {
     "datasetId": 897156,
     "sourceId": 1526618,
     "sourceType": "datasetVersion"
    },
    {
     "datasetId": 10100,
     "sourceId": 3316532,
     "sourceType": "datasetVersion"
    }
   ],
   "dockerImageVersionId": 31012,
   "isGpuEnabled": false,
   "isInternetEnabled": true,
   "language": "python",
   "sourceType": "notebook"
  },
  "kernelspec": {
   "display_name": "Python 3 (ipykernel)",
   "language": "python",
   "name": "python3"
  },
  "language_info": {
   "codemirror_mode": {
    "name": "ipython",
    "version": 3
   },
   "file_extension": ".py",
   "mimetype": "text/x-python",
   "name": "python",
   "nbconvert_exporter": "python",
   "pygments_lexer": "ipython3",
   "version": "3.8.16"
  },
  "papermill": {
   "default_parameters": {},
   "duration": 735.666485,
   "end_time": "2025-05-04T14:22:35.684496",
   "environment_variables": {},
   "exception": null,
   "input_path": "__notebook__.ipynb",
   "output_path": "__notebook__.ipynb",
   "parameters": {},
   "start_time": "2025-05-04T14:10:20.018011",
   "version": "2.6.0"
  }
 },
 "nbformat": 4,
 "nbformat_minor": 5
}
